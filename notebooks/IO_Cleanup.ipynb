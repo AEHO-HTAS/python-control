{
 "cells": [
  {
   "cell_type": "code",
   "execution_count": 1,
   "metadata": {
    "collapsed": true
   },
   "outputs": [],
   "source": [
    "from numpy import int, int8, int16, int32, int64\n",
    "from numpy import float, float16, float32, float64, float128\n",
    "from numpy import complex, complex64, complex128, complex256\n",
    "from numpy import all, ndarray, array\n",
    "import numpy as np"
   ]
  },
  {
   "cell_type": "code",
   "execution_count": 2,
   "metadata": {
    "collapsed": false
   },
   "outputs": [],
   "source": [
    "def tf_clean_parts(data):\n",
    "    '''\n",
    "    Return a valid, cleaned up numerator or denominator \n",
    "    for the TransferFunction class.\n",
    "    \n",
    "    Parameters:\n",
    "    data: numerator or denominator of a transfer function.\n",
    "    \n",
    "    Returns:\n",
    "    data: correctly formatted transfer function part.\n",
    "    \n",
    "    '''\n",
    "    valid_types = (int, int8, int16, int32, int64,\n",
    "               float, float16, float32, float64, float128,\n",
    "               complex, complex64, complex128, complex256)\n",
    "    valid_collection = (list, tuple, ndarray)\n",
    "\n",
    "    if (isinstance(data, valid_types) or\n",
    "        (isinstance(data, ndarray) and data.ndim == 0)):\n",
    "        return [[array([data], dtype=float)]]\n",
    "    elif (isinstance(data, valid_collection) and\n",
    "            all([isinstance(d, valid_types) for d in data])):\n",
    "        return [[array(data, dtype=float)]]\n",
    "    elif (isinstance(data, list) and\n",
    "          isinstance(data[0], list) and\n",
    "              (isinstance(data[0][0], valid_collection) and \n",
    "              isinstance(data[0][0][0], valid_types))):\n",
    "        for j in range(len(data)):\n",
    "            for k in range(len(data[j])):\n",
    "                data[j][k] = array(data[j][k], dtype=float)\n",
    "        return data\n",
    "    else:\n",
    "        # If the user passed in anything else, then it's unclear what\n",
    "        # the meaning is.\n",
    "        raise TypeError(\"The numerator and denominator inputs must be \\\n",
    "scalars or vectors (for\\nSISO), or lists of lists of vectors (for SISO or \\\n",
    "MIMO).\")"
   ]
  },
  {
   "cell_type": "code",
   "execution_count": 3,
   "metadata": {
    "collapsed": false
   },
   "outputs": [],
   "source": [
    "num = 1\n",
    "num_ = tf_clean_parts(num)\n",
    "np.testing.assert_array_equal(num_[0][0], array([1.0], dtype=float))"
   ]
  },
  {
   "cell_type": "code",
   "execution_count": 4,
   "metadata": {
    "collapsed": false
   },
   "outputs": [],
   "source": [
    "num = [1]\n",
    "num_ = tf_clean_parts(num)\n",
    "np.testing.assert_array_equal(num_[0][0], array([1.0], dtype=float))"
   ]
  },
  {
   "cell_type": "code",
   "execution_count": 5,
   "metadata": {
    "collapsed": false,
    "scrolled": true
   },
   "outputs": [],
   "source": [
    "num = [1,1]\n",
    "num_ = tf_clean_parts(num)\n",
    "np.testing.assert_array_equal(num_[0][0], array([1.0, 1.0], dtype=float))"
   ]
  },
  {
   "cell_type": "code",
   "execution_count": 6,
   "metadata": {
    "collapsed": false
   },
   "outputs": [],
   "source": [
    "num = [[[1,1],[2,2]]]\n",
    "num_ = tf_clean_parts(num)\n",
    "np.testing.assert_array_equal(num_[0][0], array([1.0, 1.0], dtype=float))\n",
    "np.testing.assert_array_equal(num_[0][1], array([2.0, 2.0], dtype=float))"
   ]
  },
  {
   "cell_type": "code",
   "execution_count": 7,
   "metadata": {
    "collapsed": true
   },
   "outputs": [],
   "source": [
    "num = [[[1.0,1.0],[2.0,2.0]]]\n",
    "num_ = tf_clean_parts(num)\n",
    "np.testing.assert_array_equal(num_[0][0], array([1.0, 1.0], dtype=float))\n",
    "np.testing.assert_array_equal(num_[0][1], array([2.0, 2.0], dtype=float))"
   ]
  },
  {
   "cell_type": "code",
   "execution_count": 8,
   "metadata": {
    "collapsed": false
   },
   "outputs": [],
   "source": [
    "num = [[array([1,1]),array([2,2])]]\n",
    "num_ = tf_clean_parts(num)\n",
    "np.testing.assert_array_equal(num_[0][0], array([1.0, 1.0], dtype=float))\n",
    "np.testing.assert_array_equal(num_[0][1], array([2.0, 2.0], dtype=float))"
   ]
  },
  {
   "cell_type": "code",
   "execution_count": 9,
   "metadata": {
    "collapsed": true
   },
   "outputs": [],
   "source": [
    "num = [[array([1.0,1.0]),array([2.0,2.0])]]\n",
    "num_ = tf_clean_parts(num)\n",
    "np.testing.assert_array_equal(num_[0][0], array([1.0, 1.0], dtype=float))\n",
    "np.testing.assert_array_equal(num_[0][1], array([2.0, 2.0], dtype=float))"
   ]
  },
  {
   "cell_type": "code",
   "execution_count": 10,
   "metadata": {
    "collapsed": false
   },
   "outputs": [
    {
     "data": {
      "text/plain": [
       "[[array([ 1.,  2.,  3.]), array([ 1.,  2.,  3.])]]"
      ]
     },
     "execution_count": 10,
     "metadata": {},
     "output_type": "execute_result"
    }
   ],
   "source": [
    "num = [[[1,2,3],[1,2,3]]]\n",
    "tf_clean_parts(num)"
   ]
  },
  {
   "cell_type": "code",
   "execution_count": 11,
   "metadata": {
    "collapsed": false
   },
   "outputs": [
    {
     "ename": "TypeError",
     "evalue": "The numerator and denominator inputs must be scalars or vectors (for\nSISO), or lists of lists of vectors (for SISO or MIMO).",
     "output_type": "error",
     "traceback": [
      "\u001b[0;31m---------------------------------------------------------------------------\u001b[0m",
      "\u001b[0;31mTypeError\u001b[0m                                 Traceback (most recent call last)",
      "\u001b[0;32m<ipython-input-11-735b56338072>\u001b[0m in \u001b[0;36m<module>\u001b[0;34m()\u001b[0m\n\u001b[1;32m      1\u001b[0m \u001b[0mnum\u001b[0m \u001b[0;34m=\u001b[0m \u001b[0;34m[\u001b[0m\u001b[0;34m[\u001b[0m\u001b[0;36m1\u001b[0m\u001b[0;34m,\u001b[0m\u001b[0;36m2\u001b[0m\u001b[0;34m,\u001b[0m\u001b[0;36m3\u001b[0m\u001b[0;34m]\u001b[0m\u001b[0;34m,\u001b[0m\u001b[0;34m[\u001b[0m\u001b[0;36m1\u001b[0m\u001b[0;34m,\u001b[0m\u001b[0;36m2\u001b[0m\u001b[0;34m,\u001b[0m\u001b[0;36m3\u001b[0m\u001b[0;34m]\u001b[0m\u001b[0;34m]\u001b[0m\u001b[0;34m\u001b[0m\u001b[0m\n\u001b[0;32m----> 2\u001b[0;31m \u001b[0mtf_clean_parts\u001b[0m\u001b[0;34m(\u001b[0m\u001b[0mnum\u001b[0m\u001b[0;34m)\u001b[0m\u001b[0;34m\u001b[0m\u001b[0m\n\u001b[0m",
      "\u001b[0;32m<ipython-input-2-f22688626b29>\u001b[0m in \u001b[0;36mtf_clean_parts\u001b[0;34m(data)\u001b[0m\n\u001b[1;32m     33\u001b[0m         \u001b[0;31m# If the user passed in anything else, then it's unclear what\u001b[0m\u001b[0;34m\u001b[0m\u001b[0;34m\u001b[0m\u001b[0m\n\u001b[1;32m     34\u001b[0m         \u001b[0;31m# the meaning is.\u001b[0m\u001b[0;34m\u001b[0m\u001b[0;34m\u001b[0m\u001b[0m\n\u001b[0;32m---> 35\u001b[0;31m         \u001b[0;32mraise\u001b[0m \u001b[0mTypeError\u001b[0m\u001b[0;34m(\u001b[0m\u001b[0;34m\"The numerator and denominator inputs must be scalars or vectors (for\\nSISO), or lists of lists of vectors (for SISO or MIMO).\"\u001b[0m\u001b[0;34m)\u001b[0m\u001b[0;34m\u001b[0m\u001b[0m\n\u001b[0m",
      "\u001b[0;31mTypeError\u001b[0m: The numerator and denominator inputs must be scalars or vectors (for\nSISO), or lists of lists of vectors (for SISO or MIMO)."
     ]
    }
   ],
   "source": [
    "num = [[1,2,3],[1,2,3]]\n",
    "tf_clean_parts(num)"
   ]
  }
 ],
 "metadata": {
  "kernelspec": {
   "display_name": "Python 3",
   "language": "python",
   "name": "python3"
  },
  "language_info": {
   "codemirror_mode": {
    "name": "ipython",
    "version": 3
   },
   "file_extension": ".py",
   "mimetype": "text/x-python",
   "name": "python",
   "nbconvert_exporter": "python",
   "pygments_lexer": "ipython3",
   "version": "3.5.2"
  }
 },
 "nbformat": 4,
 "nbformat_minor": 0
}
